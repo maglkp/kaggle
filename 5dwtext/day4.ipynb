{
 "cells": [
  {
   "cell_type": "code",
   "execution_count": 155,
   "metadata": {},
   "outputs": [],
   "source": [
    "from gensim.models import Word2Vec, LdaMulticore\n",
    "from gensim.utils import simple_preprocess\n",
    "from gensim.parsing.preprocessing import STOPWORDS\n",
    "from gensim.corpora import Dictionary\n",
    "from gensim.models.phrases import Phraser, Phrases\n",
    "\n",
    "import numpy as np\n",
    "import pandas as pd\n",
    "import seaborn as sns\n",
    "\n",
    "from ast import literal_eval\n",
    "\n",
    "import matplotlib.pyplot as plt\n",
    "%matplotlib inline"
   ]
  },
  {
   "cell_type": "code",
   "execution_count": 115,
   "metadata": {},
   "outputs": [
    {
     "name": "stdout",
     "output_type": "stream",
     "text": [
      "\u001b[0m\u001b[01;31mjob_ofer.csv.tar.gz\u001b[0m  job_offer.csv  reviews_data.txt  \u001b[01;31mreviews_data.txt.gz\u001b[0m\r\n"
     ]
    }
   ],
   "source": [
    "ls data"
   ]
  },
  {
   "cell_type": "code",
   "execution_count": 116,
   "metadata": {},
   "outputs": [],
   "source": [
    "df = pd.read_csv('data/job_offer.csv')"
   ]
  },
  {
   "cell_type": "code",
   "execution_count": 117,
   "metadata": {},
   "outputs": [
    {
     "name": "stdout",
     "output_type": "stream",
     "text": [
      "<class 'pandas.core.frame.DataFrame'>\n",
      "RangeIndex: 36109 entries, 0 to 36108\n",
      "Data columns (total 8 columns):\n",
      "title              36109 non-null object\n",
      "company_name       33925 non-null object\n",
      "address            36109 non-null object\n",
      "description        36109 non-null object\n",
      "seniority_level    36109 non-null object\n",
      "employment_type    36109 non-null object\n",
      "job_function       36099 non-null object\n",
      "industries         36095 non-null object\n",
      "dtypes: object(8)\n",
      "memory usage: 2.2+ MB\n"
     ]
    }
   ],
   "source": [
    "df.info()"
   ]
  },
  {
   "cell_type": "code",
   "execution_count": 118,
   "metadata": {},
   "outputs": [
    {
     "data": {
      "text/html": [
       "<div>\n",
       "<style scoped>\n",
       "    .dataframe tbody tr th:only-of-type {\n",
       "        vertical-align: middle;\n",
       "    }\n",
       "\n",
       "    .dataframe tbody tr th {\n",
       "        vertical-align: top;\n",
       "    }\n",
       "\n",
       "    .dataframe thead th {\n",
       "        text-align: right;\n",
       "    }\n",
       "</style>\n",
       "<table border=\"1\" class=\"dataframe\">\n",
       "  <thead>\n",
       "    <tr style=\"text-align: right;\">\n",
       "      <th></th>\n",
       "      <th>title</th>\n",
       "      <th>company_name</th>\n",
       "      <th>address</th>\n",
       "      <th>description</th>\n",
       "      <th>seniority_level</th>\n",
       "      <th>employment_type</th>\n",
       "      <th>job_function</th>\n",
       "      <th>industries</th>\n",
       "    </tr>\n",
       "  </thead>\n",
       "  <tbody>\n",
       "    <tr>\n",
       "      <th>0</th>\n",
       "      <td>Machine Learning Engineer</td>\n",
       "      <td>Intellipro Group Inc</td>\n",
       "      <td>Palo Alto, CA, US</td>\n",
       "      <td>['About The Company', \"W*** is reshaping the f...</td>\n",
       "      <td>Entry level</td>\n",
       "      <td>Full-time</td>\n",
       "      <td>Engineering</td>\n",
       "      <td>Information Technology and Services</td>\n",
       "    </tr>\n",
       "    <tr>\n",
       "      <th>1</th>\n",
       "      <td>Deep Learning Applied Researcher - Chicago</td>\n",
       "      <td>Ethosia</td>\n",
       "      <td>Chicago, IL, US</td>\n",
       "      <td>['תיאור המשרה', 'Deep learning for Computer Vi...</td>\n",
       "      <td>Associate</td>\n",
       "      <td>Full-time</td>\n",
       "      <td>Other</td>\n",
       "      <td>Information Technology and Services</td>\n",
       "    </tr>\n",
       "    <tr>\n",
       "      <th>2</th>\n",
       "      <td>Machine Learning Engineer</td>\n",
       "      <td>Motorola Solutions</td>\n",
       "      <td>Chicago, IL, US</td>\n",
       "      <td>['Company Overview', 'At Motorola Solutions, w...</td>\n",
       "      <td>Entry level</td>\n",
       "      <td>Full-time</td>\n",
       "      <td>Engineering</td>\n",
       "      <td>Information Technology and Services</td>\n",
       "    </tr>\n",
       "    <tr>\n",
       "      <th>3</th>\n",
       "      <td>Machine Learning / Data Scientist</td>\n",
       "      <td>Proprius LLC</td>\n",
       "      <td>San Francisco, CA, US</td>\n",
       "      <td>['Our client is a digital invention agency foc...</td>\n",
       "      <td>Entry level</td>\n",
       "      <td>Full-time</td>\n",
       "      <td>Engineering</td>\n",
       "      <td>Information Technology and Services</td>\n",
       "    </tr>\n",
       "    <tr>\n",
       "      <th>4</th>\n",
       "      <td>Cloud Architect</td>\n",
       "      <td>TCS</td>\n",
       "      <td>Framingham, Massachusetts, United States</td>\n",
       "      <td>['Technical/Functional Skills', ' ', 'Good to ...</td>\n",
       "      <td>Mid-Senior level</td>\n",
       "      <td>Full-time</td>\n",
       "      <td>Engineering</td>\n",
       "      <td>Information Technology and Services</td>\n",
       "    </tr>\n",
       "  </tbody>\n",
       "</table>\n",
       "</div>"
      ],
      "text/plain": [
       "                                        title          company_name  \\\n",
       "0                   Machine Learning Engineer  Intellipro Group Inc   \n",
       "1  Deep Learning Applied Researcher - Chicago               Ethosia   \n",
       "2                   Machine Learning Engineer    Motorola Solutions   \n",
       "3           Machine Learning / Data Scientist          Proprius LLC   \n",
       "4                             Cloud Architect                   TCS   \n",
       "\n",
       "                                    address  \\\n",
       "0                         Palo Alto, CA, US   \n",
       "1                           Chicago, IL, US   \n",
       "2                           Chicago, IL, US   \n",
       "3                     San Francisco, CA, US   \n",
       "4  Framingham, Massachusetts, United States   \n",
       "\n",
       "                                         description   seniority_level  \\\n",
       "0  ['About The Company', \"W*** is reshaping the f...       Entry level   \n",
       "1  ['תיאור המשרה', 'Deep learning for Computer Vi...         Associate   \n",
       "2  ['Company Overview', 'At Motorola Solutions, w...       Entry level   \n",
       "3  ['Our client is a digital invention agency foc...       Entry level   \n",
       "4  ['Technical/Functional Skills', ' ', 'Good to ...  Mid-Senior level   \n",
       "\n",
       "  employment_type job_function                           industries  \n",
       "0       Full-time  Engineering  Information Technology and Services  \n",
       "1       Full-time        Other  Information Technology and Services  \n",
       "2       Full-time  Engineering  Information Technology and Services  \n",
       "3       Full-time  Engineering  Information Technology and Services  \n",
       "4       Full-time  Engineering  Information Technology and Services  "
      ]
     },
     "execution_count": 118,
     "metadata": {},
     "output_type": "execute_result"
    }
   ],
   "source": [
    "df.head()"
   ]
  },
  {
   "cell_type": "code",
   "execution_count": 119,
   "metadata": {},
   "outputs": [
    {
     "data": {
      "text/plain": [
       "Entry level         14232\n",
       "Associate            9929\n",
       "Mid-Senior level     4162\n",
       "Not Applicable       3878\n",
       "Director             2050\n",
       "Internship           1169\n",
       "Executive             689\n",
       "Name: seniority_level, dtype: int64"
      ]
     },
     "execution_count": 119,
     "metadata": {},
     "output_type": "execute_result"
    }
   ],
   "source": [
    "df.seniority_level.value_counts()"
   ]
  },
  {
   "cell_type": "code",
   "execution_count": 120,
   "metadata": {},
   "outputs": [],
   "source": [
    "# przyklad\n",
    "corpus = [\n",
    "    ['a', 'b', 'x'],\n",
    "    ['a', 'b', 'x'],\n",
    "    ['a', 'b', 'c', 'w'],\n",
    "    ['q', 'b', 'e', 'u', 'k'],\n",
    "]\n",
    "bigram = Phraser(Phrases(corpus, min_count=2, threshold=1))"
   ]
  },
  {
   "cell_type": "code",
   "execution_count": 121,
   "metadata": {},
   "outputs": [
    {
     "data": {
      "text/plain": [
       "['k', 'a_b', 'c', 'b', 'c']"
      ]
     },
     "execution_count": 121,
     "metadata": {},
     "output_type": "execute_result"
    }
   ],
   "source": [
    "bigram[['k', 'a', 'b', 'c', 'b', 'c']]"
   ]
  },
  {
   "cell_type": "markdown",
   "metadata": {},
   "source": [
    " ## Word2Vec"
   ]
  },
  {
   "cell_type": "code",
   "execution_count": 122,
   "metadata": {},
   "outputs": [
    {
     "data": {
      "text/plain": [
       "[('deep', 0.9618822336196899),\n",
       " ('big', 0.85960853099823),\n",
       " ('scientists', 0.8447020053863525),\n",
       " ('scientist', 0.8414903283119202),\n",
       " ('computer', 0.838074803352356),\n",
       " ('inference', 0.8344436287879944),\n",
       " ('nlp', 0.8316723108291626),\n",
       " ('natural', 0.8311825394630432),\n",
       " ('three', 0.8306556940078735),\n",
       " ('alpharetta', 0.8291459083557129)]"
      ]
     },
     "execution_count": 122,
     "metadata": {},
     "output_type": "execute_result"
    }
   ],
   "source": [
    "title_corpus = df.title.map(simple_preprocess)\n",
    "title_bigram = Word2Vec(title_corpus, size=100, window=2, min_count=1)\n",
    "title_bigram.wv.most_similar('machine')"
   ]
  },
  {
   "cell_type": "markdown",
   "metadata": {},
   "source": [
    "## Title + phrases"
   ]
  },
  {
   "cell_type": "code",
   "execution_count": 123,
   "metadata": {},
   "outputs": [],
   "source": [
    "title_corpus = df.title.map(simple_preprocess)\n",
    "title_bigram = Phraser(Phrases(title_corpus, min_count=1, threshold=1))"
   ]
  },
  {
   "cell_type": "code",
   "execution_count": 124,
   "metadata": {},
   "outputs": [
    {
     "data": {
      "text/plain": [
       "['excellent_teaching', 'opportunity_in', 'china']"
      ]
     },
     "execution_count": 124,
     "metadata": {},
     "output_type": "execute_result"
    }
   ],
   "source": [
    "title_bigram[simple_preprocess('Excellent Teaching Opportunity In China')]"
   ]
  },
  {
   "cell_type": "code",
   "execution_count": 125,
   "metadata": {},
   "outputs": [],
   "source": [
    "title_corpus_phrase = [title_bigram[sent] for sent in title_corpus]\n",
    "model = Word2Vec(title_corpus_phrase, size=100, window=2, min_count=1)"
   ]
  },
  {
   "cell_type": "code",
   "execution_count": 126,
   "metadata": {},
   "outputs": [
    {
     "data": {
      "text/plain": [
       "[('high_school', 0.9452986121177673),\n",
       " ('victoria_airport', 0.9441039562225342),\n",
       " ('retail_become', 0.9433714151382446),\n",
       " ('retail_fragrance', 0.9433557987213135),\n",
       " ('of_our', 0.9430291652679443),\n",
       " ('army_sharp', 0.9429834485054016),\n",
       " ('positions_sign', 0.9428299069404602),\n",
       " ('invest_in', 0.9426500201225281),\n",
       " ('or_ts', 0.9424646496772766),\n",
       " ('snp_lake', 0.9422569870948792)]"
      ]
     },
     "execution_count": 126,
     "metadata": {},
     "output_type": "execute_result"
    }
   ],
   "source": [
    "model.wv.most_similar('machine')   "
   ]
  },
  {
   "cell_type": "code",
   "execution_count": 129,
   "metadata": {},
   "outputs": [],
   "source": [
    "def prepare_corpus(corpus, bigram):\n",
    "    for sent in corpus:\n",
    "        yield bigram[sent] + sent        "
   ]
  },
  {
   "cell_type": "code",
   "execution_count": 109,
   "metadata": {},
   "outputs": [
    {
     "data": {
      "text/plain": [
       "['deep', 'learning', 'applied']"
      ]
     },
     "execution_count": 109,
     "metadata": {},
     "output_type": "execute_result"
    }
   ],
   "source": [
    "simple_preprocess('Deep Learning Applied - ')"
   ]
  },
  {
   "cell_type": "code",
   "execution_count": 110,
   "metadata": {},
   "outputs": [
    {
     "data": {
      "text/plain": [
       "['deep_learning', 'applied']"
      ]
     },
     "execution_count": 110,
     "metadata": {},
     "output_type": "execute_result"
    }
   ],
   "source": [
    "title_bigram[['deep', 'learning', 'applied']]"
   ]
  },
  {
   "cell_type": "code",
   "execution_count": 113,
   "metadata": {},
   "outputs": [
    {
     "data": {
      "text/plain": [
       "['deep', 'learning', 'applied', 'deep_learning', 'applied']"
      ]
     },
     "execution_count": 113,
     "metadata": {},
     "output_type": "execute_result"
    }
   ],
   "source": [
    "['deep', 'learning', 'applied'] + ['deep_learning', 'applied']"
   ]
  },
  {
   "cell_type": "code",
   "execution_count": 130,
   "metadata": {},
   "outputs": [],
   "source": [
    "extended_corpus = list(prepare_corpus(title_corpus, title_bigram))\n",
    "title_model = Word2Vec(extended_corpus, size=100, window=2, min_count=1)"
   ]
  },
  {
   "cell_type": "code",
   "execution_count": 131,
   "metadata": {},
   "outputs": [
    {
     "data": {
      "text/plain": [
       "[('machine_learning', 0.9450997114181519),\n",
       " ('learning_product', 0.9447668790817261),\n",
       " ('bmvc', 0.9423291683197021),\n",
       " ('deep', 0.939751923084259),\n",
       " ('learning', 0.9390493035316467),\n",
       " ('big', 0.9347665309906006),\n",
       " ('computer_vision', 0.9310387372970581),\n",
       " ('rockville', 0.9265317916870117),\n",
       " ('and_assemblers', 0.9256027936935425),\n",
       " ('nlp', 0.9251259565353394)]"
      ]
     },
     "execution_count": 131,
     "metadata": {},
     "output_type": "execute_result"
    }
   ],
   "source": [
    "title_model.wv.most_similar('machine')"
   ]
  },
  {
   "cell_type": "code",
   "execution_count": 133,
   "metadata": {},
   "outputs": [
    {
     "data": {
      "text/plain": [
       "[('rockville', 0.9832637310028076),\n",
       " ('computer_vision', 0.9816802144050598),\n",
       " ('learning', 0.9789376258850098),\n",
       " ('deep_learning', 0.976489245891571),\n",
       " ('ml', 0.9757351875305176),\n",
       " ('nlp', 0.9742149114608765),\n",
       " ('bmvc', 0.9740982055664062),\n",
       " ('big', 0.9688085317611694),\n",
       " ('nlp_engineer', 0.9677655100822449),\n",
       " ('computer', 0.9642936587333679)]"
      ]
     },
     "execution_count": 133,
     "metadata": {},
     "output_type": "execute_result"
    }
   ],
   "source": [
    "title_model.wv.most_similar('machine_learning')"
   ]
  },
  {
   "cell_type": "code",
   "execution_count": 150,
   "metadata": {},
   "outputs": [],
   "source": [
    "#simple_preprocess( df.sample()['description'].values[0])"
   ]
  },
  {
   "cell_type": "markdown",
   "metadata": {},
   "source": [
    "## Description"
   ]
  },
  {
   "cell_type": "code",
   "execution_count": 151,
   "metadata": {},
   "outputs": [],
   "source": [
    "desc_corpus = df.description.map(simple_preprocess)\n",
    "desc_bigram = Phraser(Phrases(desc_corpus, min_count=1, threshold=1))"
   ]
  },
  {
   "cell_type": "code",
   "execution_count": 153,
   "metadata": {},
   "outputs": [],
   "source": [
    "ext_corpus = list(prepare_corpus(desc_corpus, desc_bigram))\n",
    "desc_model = Word2Vec(ext_corpus, size=100, window=2, min_count=1)"
   ]
  },
  {
   "cell_type": "code",
   "execution_count": 161,
   "metadata": {},
   "outputs": [
    {
     "data": {
      "text/plain": [
       "[('tensorflow', 0.945772647857666),\n",
       " ('caffe', 0.9426823854446411),\n",
       " ('pytorch', 0.9323517084121704),\n",
       " ('scipy', 0.9283360242843628),\n",
       " ('numpy', 0.9280869364738464),\n",
       " ('theano', 0.9229416847229004),\n",
       " ('jupyter', 0.908257782459259),\n",
       " ('spacy', 0.8976615071296692),\n",
       " ('pandas', 0.8933025002479553),\n",
       " ('mxnet', 0.8901236653327942)]"
      ]
     },
     "execution_count": 161,
     "metadata": {},
     "output_type": "execute_result"
    }
   ],
   "source": [
    "desc_model.wv.most_similar('keras')"
   ]
  },
  {
   "cell_type": "code",
   "execution_count": 157,
   "metadata": {},
   "outputs": [
    {
     "data": {
      "text/plain": [
       "[('machine_learning', 0.9450997114181519),\n",
       " ('learning_product', 0.9447668790817261),\n",
       " ('bmvc', 0.9423291683197021),\n",
       " ('deep', 0.939751923084259),\n",
       " ('learning', 0.9390493035316467),\n",
       " ('big', 0.9347665309906006),\n",
       " ('computer_vision', 0.9310387372970581),\n",
       " ('rockville', 0.9265317916870117),\n",
       " ('and_assemblers', 0.9256027936935425),\n",
       " ('nlp', 0.9251259565353394)]"
      ]
     },
     "execution_count": 157,
     "metadata": {},
     "output_type": "execute_result"
    }
   ],
   "source": [
    "title_model.wv.most_similar('machine')"
   ]
  },
  {
   "cell_type": "code",
   "execution_count": 158,
   "metadata": {},
   "outputs": [],
   "source": [
    "desc_model_no_bigrams = Word2Vec(desc_corpus, size=100, window=2, min_count=1)"
   ]
  },
  {
   "cell_type": "code",
   "execution_count": 160,
   "metadata": {},
   "outputs": [
    {
     "data": {
      "text/plain": [
       "[('pytorch', 0.9421138763427734),\n",
       " ('caffe', 0.936102032661438),\n",
       " ('tensorflow', 0.9353744983673096),\n",
       " ('theano', 0.9265309572219849),\n",
       " ('scipy', 0.9170170426368713),\n",
       " ('numpy', 0.9061530828475952),\n",
       " ('mxnet', 0.8872060775756836),\n",
       " ('matplotlib', 0.8789718747138977),\n",
       " ('sklearn', 0.8684313893318176),\n",
       " ('nltk', 0.8644103407859802)]"
      ]
     },
     "execution_count": 160,
     "metadata": {},
     "output_type": "execute_result"
    }
   ],
   "source": [
    "desc_model_no_bigrams.wv.most_similar('keras')"
   ]
  }
 ],
 "metadata": {
  "kernelspec": {
   "display_name": "Python 3",
   "language": "python",
   "name": "python3"
  },
  "language_info": {
   "codemirror_mode": {
    "name": "ipython",
    "version": 3
   },
   "file_extension": ".py",
   "mimetype": "text/x-python",
   "name": "python",
   "nbconvert_exporter": "python",
   "pygments_lexer": "ipython3",
   "version": "3.7.3"
  }
 },
 "nbformat": 4,
 "nbformat_minor": 2
}
