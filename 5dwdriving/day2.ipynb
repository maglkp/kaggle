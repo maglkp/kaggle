{
 "cells": [
  {
   "cell_type": "code",
   "execution_count": 1,
   "metadata": {},
   "outputs": [
    {
     "name": "stderr",
     "output_type": "stream",
     "text": [
      "Using TensorFlow backend.\n"
     ]
    }
   ],
   "source": [
    "from flask import Flask\n",
    "import eventlet.wsgi\n",
    "import eventlet\n",
    "import socketio\n",
    "import numpy as np\n",
    "from PIL import Image\n",
    "import base64\n",
    "from io import BytesIO\n",
    "\n",
    "import matplotlib.pyplot as plt\n",
    "from keras.models import load_model"
   ]
  },
  {
   "cell_type": "code",
   "execution_count": 2,
   "metadata": {},
   "outputs": [],
   "source": [
    "sio = socketio.Server()\n",
    "app = Flask(__name__)\n",
    "\n",
    "\n",
    "def send_control(steering_angle, throttle):\n",
    "    sio.emit(\"steer\", data={'steering_angle': str(steering_angle),\n",
    "                            'throttle': str(throttle) }, skip_sid=True)"
   ]
  },
  {
   "cell_type": "code",
   "execution_count": 3,
   "metadata": {},
   "outputs": [
    {
     "name": "stdout",
     "output_type": "stream",
     "text": [
      "WARNING:tensorflow:From /home/lkoziol/anaconda3/lib/python3.7/site-packages/tensorflow/python/framework/op_def_library.py:263: colocate_with (from tensorflow.python.framework.ops) is deprecated and will be removed in a future version.\n",
      "Instructions for updating:\n",
      "Colocations handled automatically by placer.\n",
      "WARNING:tensorflow:From /home/lkoziol/anaconda3/lib/python3.7/site-packages/keras/backend/tensorflow_backend.py:3445: calling dropout (from tensorflow.python.ops.nn_ops) with keep_prob is deprecated and will be removed in a future version.\n",
      "Instructions for updating:\n",
      "Please use `rate` instead of `keep_prob`. Rate should be set to `rate = 1 - keep_prob`.\n",
      "WARNING:tensorflow:From /home/lkoziol/anaconda3/lib/python3.7/site-packages/tensorflow/python/ops/math_ops.py:3066: to_int32 (from tensorflow.python.ops.math_ops) is deprecated and will be removed in a future version.\n",
      "Instructions for updating:\n",
      "Use tf.cast instead.\n",
      "_________________________________________________________________\n",
      "Layer (type)                 Output Shape              Param #   \n",
      "=================================================================\n",
      "normalize (Lambda)           (None, 60, 80, 3)         0         \n",
      "_________________________________________________________________\n",
      "conv2d_25 (Conv2D)           (None, 58, 78, 64)        1792      \n",
      "_________________________________________________________________\n",
      "conv2d_26 (Conv2D)           (None, 56, 76, 32)        18464     \n",
      "_________________________________________________________________\n",
      "max_pooling2d_16 (MaxPooling (None, 28, 38, 32)        0         \n",
      "_________________________________________________________________\n",
      "conv2d_27 (Conv2D)           (None, 26, 36, 16)        4624      \n",
      "_________________________________________________________________\n",
      "max_pooling2d_17 (MaxPooling (None, 13, 18, 16)        0         \n",
      "_________________________________________________________________\n",
      "conv2d_28 (Conv2D)           (None, 11, 16, 6)         870       \n",
      "_________________________________________________________________\n",
      "max_pooling2d_18 (MaxPooling (None, 5, 8, 6)           0         \n",
      "_________________________________________________________________\n",
      "dropout_13 (Dropout)         (None, 5, 8, 6)           0         \n",
      "_________________________________________________________________\n",
      "flatten_7 (Flatten)          (None, 240)               0         \n",
      "_________________________________________________________________\n",
      "dense_25 (Dense)             (None, 512)               123392    \n",
      "_________________________________________________________________\n",
      "dropout_14 (Dropout)         (None, 512)               0         \n",
      "_________________________________________________________________\n",
      "dense_26 (Dense)             (None, 512)               262656    \n",
      "_________________________________________________________________\n",
      "dropout_15 (Dropout)         (None, 512)               0         \n",
      "_________________________________________________________________\n",
      "dense_27 (Dense)             (None, 16)                8208      \n",
      "_________________________________________________________________\n",
      "dense_28 (Dense)             (None, 1)                 17        \n",
      "=================================================================\n",
      "Total params: 420,023\n",
      "Trainable params: 420,023\n",
      "Non-trainable params: 0\n",
      "_________________________________________________________________\n"
     ]
    }
   ],
   "source": [
    "model = load_model('mymodel.h5')\n",
    "model.summary()"
   ]
  },
  {
   "cell_type": "code",
   "execution_count": null,
   "metadata": {},
   "outputs": [
    {
     "name": "stderr",
     "output_type": "stream",
     "text": [
      "(7173) wsgi starting up on http://0.0.0.0:4567\n",
      "(7173) accepted ('127.0.0.1', 42867)\n",
      "(7173) accepted ('127.0.0.1', 35437)\n",
      "127.0.0.1 - - [19/May/2019 11:38:01] \"GET /socket.io/?EIO=4&transport=websocket HTTP/1.1\" 200 0 153.158516\n",
      "127.0.0.1 - - [19/May/2019 11:38:19] \"GET /socket.io/?EIO=4&transport=websocket HTTP/1.1\" 200 0 72.466907\n",
      "(7173) accepted ('127.0.0.1', 39273)\n",
      "(7173) accepted ('127.0.0.1', 44987)\n",
      "127.0.0.1 - - [19/May/2019 11:39:53] \"GET /socket.io/?EIO=4&transport=websocket HTTP/1.1\" 200 0 62.879822\n"
     ]
    }
   ],
   "source": [
    "def process_image(img):\n",
    "    #160x320x3 -> 60x80x3\n",
    "    return img[10:130:2, ::4, :]\n",
    "\n",
    "@sio.on('telemetry')\n",
    "def telemetry(sid, data):\n",
    "    if data:\n",
    "        speed = float(data[\"speed\"])\n",
    "        image_str = data[\"image\"]\n",
    "        decoded = base64.b64decode(image_str)\n",
    "        #print(type(decoded))\n",
    "        image = Image.open(BytesIO(decoded))\n",
    "        image_array = np.asarray(image)\n",
    "        img = process_image(image_array)\n",
    "        img_batch = np.expand_dims(img, axis=0)        \n",
    "\n",
    "        steering_angle = float(model.predict(img_batch))\n",
    "\n",
    "        #steering_angle = 0.2 # -1..1\n",
    "        throttle = 0.15 # 0..1\n",
    "        if speed < 15:\n",
    "            throttle = 0.9\n",
    "        if speed > 17:\n",
    "            throttle = -0.1\n",
    "            \n",
    "\n",
    "        send_control(steering_angle, throttle)\n",
    "    else:\n",
    "        sio.emit('manual', data={}, skip_sid=True)\n",
    "        \n",
    "app = socketio.Middleware(sio, app)\n",
    "eventlet.wsgi.server(eventlet.listen(('', 4567)), app)"
   ]
  },
  {
   "cell_type": "code",
   "execution_count": null,
   "metadata": {},
   "outputs": [],
   "source": []
  }
 ],
 "metadata": {
  "kernelspec": {
   "display_name": "Python 3",
   "language": "python",
   "name": "python3"
  },
  "language_info": {
   "codemirror_mode": {
    "name": "ipython",
    "version": 3
   },
   "file_extension": ".py",
   "mimetype": "text/x-python",
   "name": "python",
   "nbconvert_exporter": "python",
   "pygments_lexer": "ipython3",
   "version": "3.7.3"
  }
 },
 "nbformat": 4,
 "nbformat_minor": 2
}
