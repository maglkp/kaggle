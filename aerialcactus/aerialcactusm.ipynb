{
 "cells": [
  {
   "cell_type": "code",
   "execution_count": 1,
   "metadata": {},
   "outputs": [
    {
     "name": "stderr",
     "output_type": "stream",
     "text": [
      "Using TensorFlow backend.\n"
     ]
    }
   ],
   "source": [
    "import pandas as pd\n",
    "import numpy as np\n",
    "\n",
    "from keras.models import Sequential\n",
    "from keras.layers import Dense, Dropout, Flatten, Conv2D, MaxPool2D\n",
    "from keras.layers import MaxPooling2D\n",
    "from keras.preprocessing.image import ImageDataGenerator\n",
    "from keras.applications.vgg16 import VGG16\n",
    "\n",
    "#import autokeras as ak\n",
    "import matplotlib.pyplot as plt\n",
    "\n",
    "import os\n",
    "import math\n",
    "\n",
    "import matplotlib.pyplot as plt\n",
    "import matplotlib.image as mpimage\n",
    "\n",
    "from sklearn.model_selection import train_test_split\n",
    "\n",
    "%matplotlib inline\n",
    "\n",
    "from keras.models import load_model\n",
    "from keras.models import  Model\n",
    "from keras.layers import Input, Activation\n",
    "from keras.layers.normalization import BatchNormalization\n",
    "from keras.callbacks import EarlyStopping, ModelCheckpoint, CSVLogger, Callback\n",
    "from keras.wrappers.scikit_learn import KerasClassifier\n",
    "\n",
    "import cv2\n",
    "from tqdm import tqdm, tqdm_notebook"
   ]
  },
  {
   "cell_type": "code",
   "execution_count": 2,
   "metadata": {},
   "outputs": [
    {
     "data": {
      "application/vnd.jupyter.widget-view+json": {
       "model_id": "c299e48ea76b4a33b66013b8fe712987",
       "version_major": 2,
       "version_minor": 0
      },
      "text/plain": [
       "HBox(children=(IntProgress(value=0, max=17500), HTML(value='')))"
      ]
     },
     "metadata": {},
     "output_type": "display_data"
    },
    {
     "name": "stdout",
     "output_type": "stream",
     "text": [
      "\n"
     ]
    }
   ],
   "source": [
    "# data reading based on https://www.kaggle.com/seedlite/aerial-cactus-identification-using-keras/output\n",
    "train_dir = \"train\"\n",
    "test_dir = \"test\"\n",
    "train_df = pd.read_csv('train.csv')\n",
    "\n",
    "features = []\n",
    "target = []\n",
    "images = train_df['id'].values\n",
    "for img_id in tqdm_notebook(images):\n",
    "    features.append(cv2.imread(train_dir + \"/\" + img_id))    \n",
    "    target.append(train_df[train_df['id'] == img_id]['has_cactus'].values[0])  \n",
    "    \n",
    "features = np.asarray(features)\n",
    "features = features.astype('float32')\n",
    "features /= 255\n",
    "target = np.asarray(target)"
   ]
  },
  {
   "cell_type": "code",
   "execution_count": 17,
   "metadata": {},
   "outputs": [
    {
     "data": {
      "text/plain": [
       "(17500, 32, 32, 3)"
      ]
     },
     "execution_count": 17,
     "metadata": {},
     "output_type": "execute_result"
    }
   ],
   "source": [
    "features.shape"
   ]
  },
  {
   "cell_type": "code",
   "execution_count": 3,
   "metadata": {},
   "outputs": [
    {
     "name": "stdout",
     "output_type": "stream",
     "text": [
      "WARNING:tensorflow:From /home/lkoziol/anaconda3/lib/python3.7/site-packages/tensorflow/python/framework/op_def_library.py:263: colocate_with (from tensorflow.python.framework.ops) is deprecated and will be removed in a future version.\n",
      "Instructions for updating:\n",
      "Colocations handled automatically by placer.\n",
      "WARNING:tensorflow:From /home/lkoziol/anaconda3/lib/python3.7/site-packages/keras/backend/tensorflow_backend.py:3445: calling dropout (from tensorflow.python.ops.nn_ops) with keep_prob is deprecated and will be removed in a future version.\n",
      "Instructions for updating:\n",
      "Please use `rate` instead of `keep_prob`. Rate should be set to `rate = 1 - keep_prob`.\n",
      "_________________________________________________________________\n",
      "Layer (type)                 Output Shape              Param #   \n",
      "=================================================================\n",
      "conv2d_1 (Conv2D)            (None, 30, 30, 64)        1792      \n",
      "_________________________________________________________________\n",
      "max_pooling2d_1 (MaxPooling2 (None, 15, 15, 64)        0         \n",
      "_________________________________________________________________\n",
      "conv2d_2 (Conv2D)            (None, 13, 13, 128)       73856     \n",
      "_________________________________________________________________\n",
      "max_pooling2d_2 (MaxPooling2 (None, 6, 6, 128)         0         \n",
      "_________________________________________________________________\n",
      "conv2d_3 (Conv2D)            (None, 4, 4, 256)         295168    \n",
      "_________________________________________________________________\n",
      "max_pooling2d_3 (MaxPooling2 (None, 2, 2, 256)         0         \n",
      "_________________________________________________________________\n",
      "flatten_1 (Flatten)          (None, 1024)              0         \n",
      "_________________________________________________________________\n",
      "dense_1 (Dense)              (None, 128)               131200    \n",
      "_________________________________________________________________\n",
      "dropout_1 (Dropout)          (None, 128)               0         \n",
      "_________________________________________________________________\n",
      "dense_2 (Dense)              (None, 1)                 129       \n",
      "=================================================================\n",
      "Total params: 502,145\n",
      "Trainable params: 502,145\n",
      "Non-trainable params: 0\n",
      "_________________________________________________________________\n"
     ]
    }
   ],
   "source": [
    "input_shape = (32, 32, 3)\n",
    "\n",
    "model = Sequential([\n",
    "    Conv2D(64, (3,3), input_shape=input_shape),\n",
    "    MaxPool2D((2, 2)),\n",
    "    \n",
    "    Conv2D(128, (3,3)),\n",
    "    MaxPool2D((2, 2)),\n",
    "    \n",
    "    Conv2D(256, (3,3)),\n",
    "    MaxPool2D((2, 2)),\n",
    "    \n",
    "    Flatten(),\n",
    "    \n",
    "    Dense(128, activation='relu'),\n",
    "    Dropout(.5),\n",
    "    Dense(1, activation='sigmoid')    \n",
    "])\n",
    "\n",
    "model.compile(loss='binary_crossentropy', optimizer='adam', metrics=['accuracy'])\n",
    "model.summary()"
   ]
  },
  {
   "cell_type": "code",
   "execution_count": 6,
   "metadata": {},
   "outputs": [
    {
     "name": "stdout",
     "output_type": "stream",
     "text": [
      "_________________________________________________________________\n",
      "Layer (type)                 Output Shape              Param #   \n",
      "=================================================================\n",
      "vgg16 (Model)                (None, 1, 1, 512)         14714688  \n",
      "_________________________________________________________________\n",
      "flatten_3 (Flatten)          (None, 512)               0         \n",
      "_________________________________________________________________\n",
      "dense_5 (Dense)              (None, 1024)              525312    \n",
      "_________________________________________________________________\n",
      "dropout_3 (Dropout)          (None, 1024)              0         \n",
      "_________________________________________________________________\n",
      "dense_6 (Dense)              (None, 1)                 1025      \n",
      "=================================================================\n",
      "Total params: 15,241,025\n",
      "Trainable params: 526,337\n",
      "Non-trainable params: 14,714,688\n",
      "_________________________________________________________________\n"
     ]
    }
   ],
   "source": [
    "base_model = VGG16(weights='imagenet', include_top=False, input_shape=(32, 32, 3))\n",
    "\n",
    "for layer in base_model.layers:\n",
    "    layer.trainable = False\n",
    "\n",
    "model = Sequential([\n",
    "    base_model,\n",
    "    \n",
    "    Flatten(),\n",
    "    \n",
    "    Dense(1024, activation='relu'),\n",
    "    Dropout(0.5),\n",
    "    Dense(1, activation='sigmoid')\n",
    "])\n",
    "\n",
    "model.compile(loss='binary_crossentropy', optimizer='adam', metrics=['accuracy'])\n",
    "model.summary()"
   ]
  },
  {
   "cell_type": "code",
   "execution_count": 7,
   "metadata": {},
   "outputs": [
    {
     "name": "stdout",
     "output_type": "stream",
     "text": [
      "WARNING:tensorflow:From /home/lkoziol/anaconda3/lib/python3.7/site-packages/tensorflow/python/ops/math_ops.py:3066: to_int32 (from tensorflow.python.ops.math_ops) is deprecated and will be removed in a future version.\n",
      "Instructions for updating:\n",
      "Use tf.cast instead.\n",
      "Train on 15750 samples, validate on 1750 samples\n",
      "Epoch 1/15\n",
      "15750/15750 [==============================] - 72s 5ms/step - loss: 0.1492 - acc: 0.9441 - val_loss: 0.0928 - val_acc: 0.9663\n",
      "Epoch 2/15\n",
      "15750/15750 [==============================] - 60s 4ms/step - loss: 0.1022 - acc: 0.9596 - val_loss: 0.0896 - val_acc: 0.9651\n",
      "Epoch 3/15\n",
      "15750/15750 [==============================] - 71s 4ms/step - loss: 0.0941 - acc: 0.9651 - val_loss: 0.0777 - val_acc: 0.9737\n",
      "Epoch 4/15\n",
      "15750/15750 [==============================] - 67s 4ms/step - loss: 0.0871 - acc: 0.9668 - val_loss: 0.1045 - val_acc: 0.9629\n",
      "Epoch 5/15\n",
      "15750/15750 [==============================] - 58s 4ms/step - loss: 0.0876 - acc: 0.9675 - val_loss: 0.0755 - val_acc: 0.9714\n",
      "Epoch 6/15\n",
      "15750/15750 [==============================] - 56s 4ms/step - loss: 0.0798 - acc: 0.9679 - val_loss: 0.0739 - val_acc: 0.9697\n",
      "Epoch 7/15\n",
      "15750/15750 [==============================] - 54s 3ms/step - loss: 0.0786 - acc: 0.9694 - val_loss: 0.0709 - val_acc: 0.9720\n",
      "Epoch 8/15\n",
      "15750/15750 [==============================] - 57s 4ms/step - loss: 0.0753 - acc: 0.9707 - val_loss: 0.0685 - val_acc: 0.9720\n",
      "Epoch 9/15\n",
      "15750/15750 [==============================] - 57s 4ms/step - loss: 0.0727 - acc: 0.9711 - val_loss: 0.0657 - val_acc: 0.9709\n",
      "Epoch 10/15\n",
      "15750/15750 [==============================] - 67s 4ms/step - loss: 0.0719 - acc: 0.9730 - val_loss: 0.0719 - val_acc: 0.9686\n",
      "Epoch 11/15\n",
      "15750/15750 [==============================] - 56s 4ms/step - loss: 0.0675 - acc: 0.9737 - val_loss: 0.0679 - val_acc: 0.9726\n",
      "Epoch 12/15\n",
      "15750/15750 [==============================] - 56s 4ms/step - loss: 0.0702 - acc: 0.9731 - val_loss: 0.0672 - val_acc: 0.9714\n",
      "Epoch 13/15\n",
      "15750/15750 [==============================] - 53s 3ms/step - loss: 0.0640 - acc: 0.9746 - val_loss: 0.0696 - val_acc: 0.9714\n",
      "Epoch 14/15\n",
      "15750/15750 [==============================] - 51s 3ms/step - loss: 0.0635 - acc: 0.9755 - val_loss: 0.0682 - val_acc: 0.9720\n",
      "Epoch 15/15\n",
      "15750/15750 [==============================] - 52s 3ms/step - loss: 0.0647 - acc: 0.9756 - val_loss: 0.0685 - val_acc: 0.9726\n"
     ]
    },
    {
     "data": {
      "image/png": "[encoded data removed]",
      "text/plain": [
       "<Figure size 432x288 with 1 Axes>"
      ]
     },
     "metadata": {
      "needs_background": "light"
     },
     "output_type": "display_data"
    }
   ],
   "source": [
    "training = model.fit(features, target, validation_split=0.1, epochs=15)\n",
    "\n",
    "# Visualizing the losses vs. epochs\n",
    "plt.plot(training.history['loss'])\n",
    "plt.plot(training.history['val_loss'])\n",
    "plt.show()"
   ]
  },
  {
   "cell_type": "code",
   "execution_count": null,
   "metadata": {},
   "outputs": [],
   "source": []
  }
 ],
 "metadata": {
  "kernelspec": {
   "display_name": "Python 3",
   "language": "python",
   "name": "python3"
  },
  "language_info": {
   "codemirror_mode": {
    "name": "ipython",
    "version": 3
   },
   "file_extension": ".py",
   "mimetype": "text/x-python",
   "name": "python",
   "nbconvert_exporter": "python",
   "pygments_lexer": "ipython3",
   "version": "3.7.3"
  }
 },
 "nbformat": 4,
 "nbformat_minor": 2
}
