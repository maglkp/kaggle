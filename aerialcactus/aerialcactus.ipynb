{
 "cells": [
  {
   "cell_type": "code",
   "execution_count": 2,
   "metadata": {},
   "outputs": [
    {
     "name": "stderr",
     "output_type": "stream",
     "text": [
      "Using TensorFlow backend.\n"
     ]
    }
   ],
   "source": [
    "import pandas as pd\n",
    "\n",
    "from keras.models import Sequential\n",
    "from keras.layers import Dense, Dropout, Flatten, Conv2D, MaxPool2D\n",
    "from keras.preprocessing.image import ImageDataGenerator\n",
    "\n",
    "import matplotlib.pyplot as plt\n",
    "\n",
    "import os\n",
    "\n",
    "import matplotlib.pyplot as plt\n",
    "import matplotlib.image as mpimage\n",
    "\n",
    "%matplotlib inline"
   ]
  },
  {
   "cell_type": "code",
   "execution_count": 14,
   "metadata": {},
   "outputs": [],
   "source": [
    "df = pd.read_csv(\"train.csv\")\n",
    "df['has_cactus'] = df['has_cactus'].astype('str')"
   ]
  },
  {
   "cell_type": "code",
   "execution_count": 15,
   "metadata": {},
   "outputs": [
    {
     "data": {
      "text/plain": [
       "1    13136\n",
       "0     4364\n",
       "Name: has_cactus, dtype: int64"
      ]
     },
     "execution_count": 15,
     "metadata": {},
     "output_type": "execute_result"
    }
   ],
   "source": [
    "df.has_cactus.value_counts()"
   ]
  },
  {
   "cell_type": "code",
   "execution_count": 9,
   "metadata": {},
   "outputs": [
    {
     "name": "stdout",
     "output_type": "stream",
     "text": [
      "<class 'pandas.core.frame.DataFrame'>\n",
      "RangeIndex: 17500 entries, 0 to 17499\n",
      "Data columns (total 2 columns):\n",
      "id            17500 non-null object\n",
      "has_cactus    17500 non-null int64\n",
      "dtypes: int64(1), object(1)\n",
      "memory usage: 273.5+ KB\n"
     ]
    }
   ],
   "source": [
    "df.info()"
   ]
  },
  {
   "cell_type": "code",
   "execution_count": 18,
   "metadata": {},
   "outputs": [
    {
     "name": "stdout",
     "output_type": "stream",
     "text": [
      "Found 17500 images belonging to 2 classes.\n"
     ]
    }
   ],
   "source": [
    "datagen = ImageDataGenerator(rescale=1./255)\n",
    "train_generator = datagen.flow_from_dataframe(dataframe=df, directory=\"train\", x_col=\"id\", y_col=\"has_cactus\", class_mode=\"binary\", target_size=(32,32), batch_size=32)\n"
   ]
  },
  {
   "cell_type": "code",
   "execution_count": 19,
   "metadata": {},
   "outputs": [
    {
     "name": "stdout",
     "output_type": "stream",
     "text": [
      "WARNING:tensorflow:From /home/lkoziol/anaconda3/lib/python3.7/site-packages/tensorflow/python/framework/op_def_library.py:263: colocate_with (from tensorflow.python.framework.ops) is deprecated and will be removed in a future version.\n",
      "Instructions for updating:\n",
      "Colocations handled automatically by placer.\n",
      "WARNING:tensorflow:From /home/lkoziol/anaconda3/lib/python3.7/site-packages/keras/backend/tensorflow_backend.py:3445: calling dropout (from tensorflow.python.ops.nn_ops) with keep_prob is deprecated and will be removed in a future version.\n",
      "Instructions for updating:\n",
      "Please use `rate` instead of `keep_prob`. Rate should be set to `rate = 1 - keep_prob`.\n",
      "_________________________________________________________________\n",
      "Layer (type)                 Output Shape              Param #   \n",
      "=================================================================\n",
      "conv2d_1 (Conv2D)            (None, 30, 30, 32)        896       \n",
      "_________________________________________________________________\n",
      "max_pooling2d_1 (MaxPooling2 (None, 15, 15, 32)        0         \n",
      "_________________________________________________________________\n",
      "conv2d_2 (Conv2D)            (None, 13, 13, 64)        18496     \n",
      "_________________________________________________________________\n",
      "max_pooling2d_2 (MaxPooling2 (None, 6, 6, 64)          0         \n",
      "_________________________________________________________________\n",
      "conv2d_3 (Conv2D)            (None, 4, 4, 256)         147712    \n",
      "_________________________________________________________________\n",
      "max_pooling2d_3 (MaxPooling2 (None, 2, 2, 256)         0         \n",
      "_________________________________________________________________\n",
      "flatten_1 (Flatten)          (None, 1024)              0         \n",
      "_________________________________________________________________\n",
      "dense_1 (Dense)              (None, 64)                65600     \n",
      "_________________________________________________________________\n",
      "dropout_1 (Dropout)          (None, 64)                0         \n",
      "_________________________________________________________________\n",
      "dense_2 (Dense)              (None, 1)                 65        \n",
      "=================================================================\n",
      "Total params: 232,769\n",
      "Trainable params: 232,769\n",
      "Non-trainable params: 0\n",
      "_________________________________________________________________\n"
     ]
    }
   ],
   "source": [
    "input_shape = (32, 32, 3)\n",
    "\n",
    "model = Sequential([\n",
    "    Conv2D(32, (3,3), input_shape=input_shape),\n",
    "    MaxPool2D((2, 2)),\n",
    "    \n",
    "    Conv2D(64, (3,3)),\n",
    "    MaxPool2D((2, 2)),\n",
    "    \n",
    "    Conv2D(256, (3,3)),\n",
    "    MaxPool2D((2, 2)),\n",
    "    \n",
    "    Flatten(),\n",
    "    \n",
    "    Dense(64, activation='relu'),\n",
    "    Dropout(.5),\n",
    "    Dense(1, activation='sigmoid')\n",
    "    \n",
    "])\n",
    "\n",
    "model.compile(loss='binary_crossentropy', optimizer='adam', metrics=['accuracy'])\n",
    "model.summary()"
   ]
  },
  {
   "cell_type": "code",
   "execution_count": 21,
   "metadata": {},
   "outputs": [
    {
     "name": "stdout",
     "output_type": "stream",
     "text": [
      "WARNING:tensorflow:From /home/lkoziol/anaconda3/lib/python3.7/site-packages/tensorflow/python/ops/math_ops.py:3066: to_int32 (from tensorflow.python.ops.math_ops) is deprecated and will be removed in a future version.\n",
      "Instructions for updating:\n",
      "Use tf.cast instead.\n",
      "Epoch 1/25\n",
      " - 4s - loss: 0.2718 - acc: 0.8859\n",
      "Epoch 2/25\n",
      " - 4s - loss: 0.1906 - acc: 0.9266\n",
      "Epoch 3/25\n",
      " - 4s - loss: 0.1444 - acc: 0.9444\n",
      "Epoch 4/25\n",
      " - 4s - loss: 0.1268 - acc: 0.9528\n",
      "Epoch 5/25\n",
      " - 4s - loss: 0.0982 - acc: 0.9631\n",
      "Epoch 6/25\n",
      " - 6s - loss: 0.1068 - acc: 0.9606\n",
      "Epoch 7/25\n",
      " - 10s - loss: 0.0837 - acc: 0.9681\n",
      "Epoch 8/25\n",
      " - 6s - loss: 0.0773 - acc: 0.9744\n",
      "Epoch 9/25\n",
      " - 4s - loss: 0.0844 - acc: 0.9709\n",
      "Epoch 10/25\n",
      " - 4s - loss: 0.1078 - acc: 0.9619\n",
      "Epoch 11/25\n",
      " - 4s - loss: 0.0936 - acc: 0.9681\n",
      "Epoch 12/25\n",
      " - 4s - loss: 0.0808 - acc: 0.9722\n",
      "Epoch 13/25\n",
      " - 4s - loss: 0.0586 - acc: 0.9778\n",
      "Epoch 14/25\n",
      " - 4s - loss: 0.0545 - acc: 0.9809\n",
      "Epoch 15/25\n",
      " - 4s - loss: 0.0683 - acc: 0.9756\n",
      "Epoch 16/25\n",
      " - 4s - loss: 0.0580 - acc: 0.9819\n",
      "Epoch 17/25\n",
      " - 4s - loss: 0.0485 - acc: 0.9828\n",
      "Epoch 18/25\n",
      " - 4s - loss: 0.0630 - acc: 0.9778\n",
      "Epoch 19/25\n",
      " - 4s - loss: 0.0615 - acc: 0.9750\n",
      "Epoch 20/25\n",
      " - 4s - loss: 0.0412 - acc: 0.9859\n",
      "Epoch 21/25\n",
      " - 4s - loss: 0.0536 - acc: 0.9856\n",
      "Epoch 22/25\n",
      " - 4s - loss: 0.0414 - acc: 0.9859\n",
      "Epoch 23/25\n",
      " - 4s - loss: 0.0311 - acc: 0.9875\n",
      "Epoch 24/25\n",
      " - 4s - loss: 0.0357 - acc: 0.9866\n",
      "Epoch 25/25\n",
      " - 4s - loss: 0.0361 - acc: 0.9891\n"
     ]
    }
   ],
   "source": [
    "history = model.fit_generator(\n",
    "  train_generator,\n",
    "  steps_per_epoch=100,\n",
    "  epochs=25,\n",
    "  validation_steps=50,\n",
    "  verbose=2)"
   ]
  },
  {
   "cell_type": "code",
   "execution_count": null,
   "metadata": {},
   "outputs": [],
   "source": []
  }
 ],
 "metadata": {
  "kernelspec": {
   "display_name": "Python 3",
   "language": "python",
   "name": "python3"
  },
  "language_info": {
   "codemirror_mode": {
    "name": "ipython",
    "version": 3
   },
   "file_extension": ".py",
   "mimetype": "text/x-python",
   "name": "python",
   "nbconvert_exporter": "python",
   "pygments_lexer": "ipython3",
   "version": "3.7.3"
  }
 },
 "nbformat": 4,
 "nbformat_minor": 2
}
